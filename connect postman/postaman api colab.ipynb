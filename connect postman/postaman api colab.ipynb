{
  "nbformat": 4,
  "nbformat_minor": 0,
  "metadata": {
    "colab": {
      "provenance": []
    },
    "kernelspec": {
      "name": "python3",
      "display_name": "Python 3"
    },
    "language_info": {
      "name": "python"
    }
  },
  "cells": [
    {
      "cell_type": "code",
      "source": [
        "   from pyngrok import ngrok\n",
        "\n",
        "   tunnels = ngrok.get_tunnels()\n",
        "   for tunnel in tunnels:\n",
        "       print(tunnel.public_url)"
      ],
      "metadata": {
        "colab": {
          "base_uri": "https://localhost:8080/"
        },
        "id": "qf6wAqPXL-C6",
        "outputId": "3408a5e8-572c-4b93-e7ef-055109bddc60"
      },
      "execution_count": 7,
      "outputs": [
        {
          "output_type": "stream",
          "name": "stdout",
          "text": [
            "tcp://0.tcp.ngrok.io:10315\n",
            "tcp://0.tcp.ngrok.io:12245\n",
            "https://dee2-34-168-214-241.ngrok-free.app\n"
          ]
        }
      ]
    },
    {
      "cell_type": "code",
      "source": [
        "   for tunnel in tunnels:\n",
        "       ngrok.disconnect(tunnel.public_url)"
      ],
      "metadata": {
        "id": "l-kzM0FkMAcF"
      },
      "execution_count": 10,
      "outputs": []
    },
    {
      "cell_type": "code",
      "source": [
        "# Install necessary packages\n",
        "!pip install pyngrok flask_sqlalchemy\n",
        "\n",
        "# Import necessary libraries\n",
        "import getpass\n",
        "import os\n",
        "import threading\n",
        "from flask import Flask, request, jsonify\n",
        "from flask_sqlalchemy import SQLAlchemy\n",
        "from pyngrok import ngrok, conf\n",
        "\n",
        "# Prompt for ngrok authtoken\n",
        "print(\"Enter your authtoken, which can be copied from https://dashboard.ngrok.com/get-started/your-authtoken\")\n",
        "conf.get_default().auth_token = getpass.getpass()\n",
        "\n",
        "# List and close existing tunnels\n",
        "tunnels = ngrok.get_tunnels()\n",
        "for tunnel in tunnels:\n",
        "    ngrok.disconnect(tunnel.public_url)\n",
        "\n",
        "# Open a TCP ngrok tunnel to the SSH server\n",
        "try:\n",
        "    connection_string = ngrok.connect(\"22\", \"tcp\").public_url\n",
        "    ssh_url, port = connection_string.strip(\"tcp://\").split(\":\")\n",
        "    print(f\" * ngrok tunnel available, access with `ssh root@{ssh_url} -p{port}`\")\n",
        "except Exception as e:\n",
        "    print(f\"Failed to open SSH tunnel: {e}\")\n",
        "\n",
        "# Initialize Flask app\n",
        "app = Flask(__name__)\n",
        "port = 5010\n",
        "\n",
        "# Configure database\n",
        "app.config['SQLALCHEMY_DATABASE_URI'] = 'sqlite:///crud.db'\n",
        "app.config['SQLALCHEMY_TRACK_MODIFICATIONS'] = False\n",
        "db = SQLAlchemy(app)\n",
        "\n",
        "# Define a model\n",
        "class User(db.Model):\n",
        "    id = db.Column(db.Integer, primary_key=True)\n",
        "    name = db.Column(db.String(80), nullable=False)\n",
        "\n",
        "# Create the database\n",
        "with app.app_context():\n",
        "    db.create_all()\n",
        "\n",
        "# Open a ngrok tunnel to the HTTP server\n",
        "try:\n",
        "    public_url = ngrok.connect(port).public_url\n",
        "    print(f\" * ngrok tunnel \\\"{public_url}\\\" -> \\\"http://127.0.0.1:{port}\\\"\")\n",
        "except Exception as e:\n",
        "    print(f\"Failed to open HTTP tunnel: {e}\")\n",
        "\n",
        "# Update any base URLs to use the public ngrok URL\n",
        "app.config[\"BASE_URL\"] = public_url\n",
        "\n",
        "# Define Flask routes for CRUD operations\n",
        "@app.route(\"/users\", methods=[\"GET\"])\n",
        "def get_users():\n",
        "    users = User.query.all()\n",
        "    return jsonify([{\"id\": user.id, \"name\": user.name} for user in users])\n",
        "\n",
        "@app.route(\"/users\", methods=[\"POST\"])\n",
        "def add_user():\n",
        "    data = request.get_json()\n",
        "    name = data.get(\"name\")\n",
        "    if name:\n",
        "        new_user = User(name=name)\n",
        "        db.session.add(new_user)\n",
        "        db.session.commit()\n",
        "        return jsonify({\"id\": new_user.id, \"name\": new_user.name}), 201\n",
        "    return jsonify({\"error\": \"Name is required\"}), 400\n",
        "\n",
        "@app.route(\"/users/<int:user_id>\", methods=[\"PUT\"])\n",
        "def update_user(user_id):\n",
        "    data = request.get_json()\n",
        "    user = User.query.get(user_id)\n",
        "    if user:\n",
        "        user.name = data.get(\"name\", user.name)\n",
        "        db.session.commit()\n",
        "        return jsonify({\"id\": user.id, \"name\": user.name})\n",
        "    return jsonify({\"error\": \"User not found\"}), 404\n",
        "\n",
        "@app.route(\"/users/<int:user_id>\", methods=[\"DELETE\"])\n",
        "def delete_user(user_id):\n",
        "    user = User.query.get(user_id)\n",
        "    if user:\n",
        "        db.session.delete(user)\n",
        "        db.session.commit()\n",
        "        return jsonify({\"message\": \"User deleted\"})\n",
        "    return jsonify({\"error\": \"User not found\"}), 404\n",
        "\n",
        "# Start the Flask server in a new thread\n",
        "threading.Thread(target=app.run, kwargs={\"use_reloader\": False, \"port\": port}).start()"
      ],
      "metadata": {
        "colab": {
          "base_uri": "https://localhost:8080/"
        },
        "id": "zzDLiG_GMxb5",
        "outputId": "0db4e67a-8e36-4d4d-b82a-d14f5c3800ab"
      },
      "execution_count": 9,
      "outputs": [
        {
          "name": "stdout",
          "output_type": "stream",
          "text": [
            "Requirement already satisfied: pyngrok in /usr/local/lib/python3.10/dist-packages (7.1.6)\n",
            "Requirement already satisfied: flask_sqlalchemy in /usr/local/lib/python3.10/dist-packages (3.1.1)\n",
            "Requirement already satisfied: PyYAML>=5.1 in /usr/local/lib/python3.10/dist-packages (from pyngrok) (6.0.1)\n",
            "Requirement already satisfied: flask>=2.2.5 in /usr/local/lib/python3.10/dist-packages (from flask_sqlalchemy) (2.2.5)\n",
            "Requirement already satisfied: sqlalchemy>=2.0.16 in /usr/local/lib/python3.10/dist-packages (from flask_sqlalchemy) (2.0.30)\n",
            "Requirement already satisfied: Werkzeug>=2.2.2 in /usr/local/lib/python3.10/dist-packages (from flask>=2.2.5->flask_sqlalchemy) (3.0.3)\n",
            "Requirement already satisfied: Jinja2>=3.0 in /usr/local/lib/python3.10/dist-packages (from flask>=2.2.5->flask_sqlalchemy) (3.1.4)\n",
            "Requirement already satisfied: itsdangerous>=2.0 in /usr/local/lib/python3.10/dist-packages (from flask>=2.2.5->flask_sqlalchemy) (2.2.0)\n",
            "Requirement already satisfied: click>=8.0 in /usr/local/lib/python3.10/dist-packages (from flask>=2.2.5->flask_sqlalchemy) (8.1.7)\n",
            "Requirement already satisfied: typing-extensions>=4.6.0 in /usr/local/lib/python3.10/dist-packages (from sqlalchemy>=2.0.16->flask_sqlalchemy) (4.11.0)\n",
            "Requirement already satisfied: greenlet!=0.4.17 in /usr/local/lib/python3.10/dist-packages (from sqlalchemy>=2.0.16->flask_sqlalchemy) (3.0.3)\n",
            "Requirement already satisfied: MarkupSafe>=2.0 in /usr/local/lib/python3.10/dist-packages (from Jinja2>=3.0->flask>=2.2.5->flask_sqlalchemy) (2.1.5)\n",
            "Enter your authtoken, which can be copied from https://dashboard.ngrok.com/auth\n",
            "··········\n"
          ]
        },
        {
          "output_type": "stream",
          "name": "stderr",
          "text": [
            "WARNING:pyngrok.process.ngrok:t=2024-05-29T21:37:03+0000 lvl=warn msg=\"Stopping forwarder\" name=tcp-22-7d2d96fb-ed0c-442b-ab9b-6955736db14c acceptErr=\"failed to accept connection: Listener closed\"\n",
            "WARNING:pyngrok.process.ngrok:t=2024-05-29T21:37:03+0000 lvl=warn msg=\"Stopping forwarder\" name=http-5000-49954b69-5ff2-4c2c-a78c-0ad21f87b754 acceptErr=\"failed to accept connection: Listener closed\"\n"
          ]
        },
        {
          "output_type": "stream",
          "name": "stdout",
          "text": [
            " * ngrok tunnel available, access with `ssh root@8.tcp.ngrok.io -p18745`\n",
            " * ngrok tunnel \"https://2441-34-168-214-241.ngrok-free.app\" -> \"http://127.0.0.1:5010\"\n",
            " * Serving Flask app '__main__'\n",
            " * Debug mode: off\n"
          ]
        },
        {
          "output_type": "stream",
          "name": "stderr",
          "text": [
            "INFO:werkzeug:\u001b[31m\u001b[1mWARNING: This is a development server. Do not use it in a production deployment. Use a production WSGI server instead.\u001b[0m\n",
            " * Running on http://127.0.0.1:5010\n",
            "INFO:werkzeug:\u001b[33mPress CTRL+C to quit\u001b[0m\n"
          ]
        }
      ]
    }
  ]
}